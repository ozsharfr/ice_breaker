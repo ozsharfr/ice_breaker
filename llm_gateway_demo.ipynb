{
 "cells": [
  {
   "cell_type": "markdown",
   "metadata": {},
   "source": [
    "\n",
    "Note: This is a sample notebook that gives hands on experience to some of the features of LLM Gateway. This notebook is meant to be interactive and might require the user to provide some inputs in designated code cells. "
   ]
  },
  {
   "cell_type": "markdown",
   "metadata": {},
   "source": [
    "#### Basic usage\n",
    "This codespace was started with an open source LLM (phi3) with Ollama. The proxy service has been configured to use the same and the model is referenced in the code throughout this notebook by passing the 'model' parameter as 'phi3' to openai client completion calls. The proxy service runs on localhost port 4000 by default and has been referenced as the 'base_url' for openai client objects. The master key for LLM Gateway has been set as \"sk-password\" and can be used for calling registered models as well as accessing the admin panel at \"https://<CODESPACE_NAME>-4000.app.github.dev/ui\". The same can be accessed through port 4000 on the PORTS tab of the terminal."
   ]
  },
  {
   "cell_type": "code",
   "execution_count": null,
   "metadata": {},
   "outputs": [],
   "source": [
    "import openai\n",
    "client = openai.OpenAI(\n",
    "    api_key=\"sk-password\",\n",
    "    base_url=\"http://0.0.0.0:4000\"\n",
    ")"
   ]
  },
  {
   "cell_type": "markdown",
   "metadata": {},
   "source": [
    "##### LLM\n",
    "Enter a prompt in the code cell below and run the next cell to call 'phi3' model to generate a response."
   ]
  },
  {
   "cell_type": "code",
   "execution_count": null,
   "metadata": {},
   "outputs": [],
   "source": [
    "query = \"Write a short story in less than 100 words\" # Change this to your query/prompt"
   ]
  },
  {
   "cell_type": "code",
   "execution_count": null,
   "metadata": {},
   "outputs": [],
   "source": [
    "response = client.chat.completions.create(model=\"phi3\", messages = [\n",
    "    {\n",
    "        \"role\": \"user\",\n",
    "        \"content\": query\n",
    "    }\n",
    "])\n",
    "\n",
    "print(response)"
   ]
  },
  {
   "cell_type": "markdown",
   "metadata": {},
   "source": [
    "##### Embedding \n",
    "This codespace is also equipped with an open source embedding model \"nomic-embed-text\" from Ollama. Try out the embedding model call from code below."
   ]
  },
  {
   "cell_type": "code",
   "execution_count": null,
   "metadata": {},
   "outputs": [],
   "source": [
    "client.embeddings.create(\n",
    "  model=\"nomic-embed-text\",\n",
    "  input=query\n",
    ")"
   ]
  },
  {
   "cell_type": "markdown",
   "metadata": {},
   "source": [
    "#### Tracing\n",
    "All the calls through LLM Gateway are traced with Langfuse. A sample Langfuse project and associated API keys has been preconfigured for this codespace. The traces can be viewed at the Langfuse dashboard at \"https://<CODESPACE_NAME>-3001.app.github.dev\" or access it through port 3001 from the PORTS tab in the terminal. (if asked for login, use \"admin@dep.com\" as email and \"password\" as password)"
   ]
  },
  {
   "cell_type": "markdown",
   "metadata": {},
   "source": [
    "#### Caching\n",
    "LLM Gateway provides a caching mechanism for LLM responses. This codespace has been configured to use Redis for cache. To see caching in action, write a prompt in the code cell below and run the cells that follows and see the difference in response time."
   ]
  },
  {
   "cell_type": "code",
   "execution_count": null,
   "metadata": {},
   "outputs": [],
   "source": [
    "import openai\n",
    "client = openai.OpenAI(\n",
    "    api_key=\"sk-password\",\n",
    "    base_url=\"http://0.0.0.0:4000\"\n",
    ")"
   ]
  },
  {
   "cell_type": "code",
   "execution_count": null,
   "metadata": {},
   "outputs": [],
   "source": [
    "query = \"Hi, how are you?\" # Change this to your query/prompt"
   ]
  },
  {
   "cell_type": "code",
   "execution_count": null,
   "metadata": {},
   "outputs": [],
   "source": [
    "response = client.chat.completions.create(model=\"phi3\", messages = [\n",
    "    {\n",
    "        \"role\": \"user\",\n",
    "        \"content\": query\n",
    "    }\n",
    "])\n",
    "\n",
    "print(response)"
   ]
  },
  {
   "cell_type": "code",
   "execution_count": null,
   "metadata": {},
   "outputs": [],
   "source": [
    "response = client.chat.completions.create(model=\"phi3\", messages = [\n",
    "    {\n",
    "        \"role\": \"user\",\n",
    "        \"content\": query\n",
    "    }\n",
    "])\n",
    "\n",
    "print(response)"
   ]
  },
  {
   "cell_type": "markdown",
   "metadata": {},
   "source": [
    "Check the traces logged to langfuse at \"https://<CODESPACE_NAME>-3001.app.github.dev\" or head over to the ports tab to access port 3001. It can be observed that when the response is returned from cache, the langfuse trace aptly marks \"True\" for cache hit."
   ]
  },
  {
   "cell_type": "markdown",
   "metadata": {},
   "source": [
    "#### Virtual Keys\n",
    "The LLM Gateway in this codespace has been set up with a virtual key with access to the configured model for demonstration. Try out the code sample below."
   ]
  },
  {
   "cell_type": "code",
   "execution_count": null,
   "metadata": {},
   "outputs": [],
   "source": [
    "import openai\n",
    "client = openai.OpenAI(\n",
    "    api_key=\"sk-TE5BPNfSh4IOCNpW3I5EDQ\",\n",
    "    base_url=\"http://0.0.0.0:4000\"\n",
    ")"
   ]
  },
  {
   "cell_type": "code",
   "execution_count": null,
   "metadata": {},
   "outputs": [],
   "source": [
    "query = \"Hi, what is an LLM?\" # Change this to your query/prompt"
   ]
  },
  {
   "cell_type": "code",
   "execution_count": null,
   "metadata": {},
   "outputs": [],
   "source": [
    "response = client.chat.completions.create(model=\"phi3\", messages = [\n",
    "    {\n",
    "        \"role\": \"user\",\n",
    "        \"content\": query\n",
    "    }\n",
    "])\n",
    "\n",
    "print(response)"
   ]
  },
  {
   "cell_type": "markdown",
   "metadata": {},
   "source": [
    "Head over to LiteLLM UI at \"https://<CODESPACE_NAME>-4000.app.github.dev/ui\" to add more virtual keys and try them out. Login with the master key \"sk-password\" to access the admin panel (Username : admin).\\\n",
    "Note: Virtual keys can be used for limiting access to models, track usage, limit rate of requests and more. Refer to the section on virtual keys in README for more details. "
   ]
  },
  {
   "cell_type": "markdown",
   "metadata": {},
   "source": [
    "#### RAG with Langchain\n",
    "To demonstrate how models proxied from LLM Gateway maybe used in RAG applications with minimal code changes, a sample RAG pipeline is provided below. The RAG pipeline uses the open source model \"phi3\" registered through LLM Gateway to generate responses and the open source embedding model \"nomic-embed-text\" to generate embeddings for the documents. \n",
    "For this example, let's take the infamous state_of_the_union.txt as the document to be used in the RAG pipeline. Run the code below to see the RAG pipeline in action. "
   ]
  },
  {
   "cell_type": "code",
   "execution_count": null,
   "metadata": {},
   "outputs": [],
   "source": [
    "from langchain_community.document_loaders import TextLoader\n",
    "from langchain_openai import OpenAIEmbeddings,ChatOpenAI\n",
    "from langchain_text_splitters import CharacterTextSplitter\n",
    "from langchain.chains import RetrievalQA\n",
    "from langchain_community.vectorstores import Annoy"
   ]
  },
  {
   "cell_type": "markdown",
   "metadata": {},
   "source": [
    "Split document"
   ]
  },
  {
   "cell_type": "code",
   "execution_count": null,
   "metadata": {},
   "outputs": [],
   "source": [
    "loader = TextLoader(\"data/state_of_the_union.txt\")\n",
    "documents = loader.load()\n",
    "text_splitter = CharacterTextSplitter(chunk_size=1000, chunk_overlap=0)\n",
    "docs = text_splitter.split_documents(documents)"
   ]
  },
  {
   "cell_type": "code",
   "execution_count": null,
   "metadata": {},
   "outputs": [],
   "source": [
    "\n",
    "embeddings = OpenAIEmbeddings(api_key=\"sk-password\",\n",
    "    base_url=\"http://0.0.0.0:4000\",\n",
    "    model=\"nomic-embed-text\")\n",
    "\n",
    "llm = ChatOpenAI(model_name=\"phi3\", temperature=0,api_key=\"sk-password\",\n",
    "    base_url=\"http://0.0.0.0:4000\")"
   ]
  },
  {
   "cell_type": "markdown",
   "metadata": {},
   "source": [
    "Load split documents into vector store"
   ]
  },
  {
   "cell_type": "code",
   "execution_count": null,
   "metadata": {},
   "outputs": [],
   "source": [
    "vector_store = Annoy.from_documents(\n",
    "    docs,\n",
    "    embeddings\n",
    ")"
   ]
  },
  {
   "cell_type": "markdown",
   "metadata": {},
   "source": [
    "Test RAG by asking a question about the state of the union address"
   ]
  },
  {
   "cell_type": "code",
   "execution_count": null,
   "metadata": {},
   "outputs": [],
   "source": [
    "prompt = \"What did the president say about the economy?\" # Change this to your query/prompt"
   ]
  },
  {
   "cell_type": "code",
   "execution_count": null,
   "metadata": {},
   "outputs": [],
   "source": [
    "qa_chain = RetrievalQA.from_chain_type(\n",
    "    llm,\n",
    "    retriever=vector_store.as_retriever(),\n",
    "    chain_type = \"stuff\",\n",
    ")"
   ]
  },
  {
   "cell_type": "code",
   "execution_count": null,
   "metadata": {},
   "outputs": [],
   "source": [
    "qa_chain.invoke(prompt)"
   ]
  },
  {
   "cell_type": "markdown",
   "metadata": {},
   "source": [
    "### Integration with Langfuse\n",
    "Langfuse Tracing integrates with Langchain using Langchain Callbacks and the SDK automatically creates a nested trace for every run of your Langchain applications."
   ]
  },
  {
   "cell_type": "code",
   "execution_count": null,
   "metadata": {},
   "outputs": [],
   "source": [
    "import os\n",
    "os.environ[\"LANGFUSE_PUBLIC_KEY\"] = \"pk-lf-f2a3d62b-8ee4-4736-a823-5751a40f1bba\"\n",
    "os.environ[\"LANGFUSE_SECRET_KEY\"] = \"sk-lf-7b4fd420-8dfc-4996-abaf-79ce05c8b7ba\"\n",
    "os.environ[\"LANGFUSE_HOST\"] = \"http://localhost:3001\""
   ]
  },
  {
   "cell_type": "code",
   "execution_count": null,
   "metadata": {},
   "outputs": [],
   "source": [
    "from langfuse.callback import CallbackHandler\n",
    " \n",
    "langfuse_handler = CallbackHandler()"
   ]
  },
  {
   "cell_type": "code",
   "execution_count": null,
   "metadata": {},
   "outputs": [],
   "source": [
    "prompt = \"What is the view on tax cuts?\" # Change this to your query/prompt"
   ]
  },
  {
   "cell_type": "code",
   "execution_count": null,
   "metadata": {},
   "outputs": [],
   "source": [
    "qa_chain.invoke(prompt,config={\"callbacks\":[langfuse_handler]})"
   ]
  },
  {
   "cell_type": "markdown",
   "metadata": {},
   "source": [
    "#### PII Masking [Optional]\n",
    "When Presidio service is enabled in the codespace, try out the code below to see PII masking in action."
   ]
  },
  {
   "cell_type": "code",
   "execution_count": null,
   "metadata": {},
   "outputs": [],
   "source": [
    "query = \"Hi, How are you? My name is John Doe and my phone number is 1800224541\" # Change this prompt to test different PII inputs"
   ]
  },
  {
   "cell_type": "code",
   "execution_count": null,
   "metadata": {},
   "outputs": [],
   "source": [
    "import openai\n",
    "client = openai.OpenAI(\n",
    "    api_key=\"sk-password\",\n",
    "    base_url=\"http://0.0.0.0:4000\"\n",
    ")\n",
    "\n",
    "response = client.chat.completions.create(model=\"phi3\", messages = [\n",
    "    {\n",
    "        \"role\": \"user\",\n",
    "        \"content\": query\n",
    "    }\n",
    "])\n",
    "\n",
    "print(response)"
   ]
  },
  {
   "cell_type": "markdown",
   "metadata": {},
   "source": [
    "See that the response have masked PII. It can also be seen in the langfuse traces corresponding to the LLM call that the gateway masks the data before passing the user inputs to the LLM."
   ]
  }
 ],
 "metadata": {
  "kernelspec": {
   "display_name": "Python 3",
   "language": "python",
   "name": "python3"
  },
  "language_info": {
   "codemirror_mode": {
    "name": "ipython",
    "version": 3
   },
   "file_extension": ".py",
   "mimetype": "text/x-python",
   "name": "python",
   "nbconvert_exporter": "python",
   "pygments_lexer": "ipython3",
   "version": "3.10.14"
  }
 },
 "nbformat": 4,
 "nbformat_minor": 2
}
