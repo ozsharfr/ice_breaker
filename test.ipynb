{
 "cells": [
  {
   "cell_type": "code",
   "execution_count": 1,
   "metadata": {},
   "outputs": [],
   "source": [
    "import openai\n",
    "client = openai.OpenAI(\n",
    "    api_key=\"sk-password\",\n",
    "    base_url=\"https://bookish-barnacle-q7vx7vjrpqqcgr7-4000.app.github.dev\"\n",
    ")"
   ]
  },
  {
   "cell_type": "code",
   "execution_count": 2,
   "metadata": {},
   "outputs": [],
   "source": [
    "query = \"Write a short story in less than 100 words\" # Change this to your query/prompt"
   ]
  },
  {
   "cell_type": "code",
   "execution_count": 3,
   "metadata": {},
   "outputs": [],
   "source": [
    "cookie = r\"ph_phc_hmVSxIjTW1REBHXgj2aw4HW9X6CXb6FzerBgP9XenC7_posthog=%7B%22distinct_id%22%3A%22018e374b-5bba-7b9d-8451-2eb56f106239%22%2C%22%24sesid%22%3A%5B1710324882759%2C%22018e374b-8db6-7d5f-810b-6810029db9e1%22%2C1710324682166%5D%7D; tunnel_phishing_protection=fancy-shoe-8r7t5jb.inc1; .Tunnels.Relay.WebForwarding.Cookies=CfDJ8E0FHi1JCVNKrny-ARCYWxPL928n9vQGYrCGZEsNcX1raJWGfT4kzxXZuWFtSXzR5SkmKqMNfIo3Ma1S3pIk-fDTFVOpPYaO6p0lzX76VDWz_JHOZAQnC3pq5ebru82JmecmFnQrQp4pop2lfE9G1VKwrJK49cLYAoEcW8snKa70Fbq5mK-H3l6Z-RMfzJiciq6bPKLoTyAN61SN86f3lSYqm0Z2Hb8fZjCAv413OkkSkp2uQfLKsaK3p5Hr3DleGYD43bFMOhzPayk0ZGvey5ZwXY_0uqrKqTXV8qqp0RaXDbARlgDK03iOcjJqA3OUJa06RTAJVeM-E56-pp9SnJoQACKAd2Z7NdSrGQOhXzg00f6zWPNbZYOXmrt3pQqwdHsYsWpD4snd5F6fpClqCwebujQLWOpTxba-EKeRRchx5GtK0humnUrYhdKxk6uExEPuA9GqE2piRUC2LR9BH3ekRS7uYHJRni-wiSyzFMb3OMivzd0BV08dhqvY5jjMLIfSTL4zdmBA0xMe2Bcbo5PMEIEEomFyvuxJ5RSmjFIX0f-KuQNFGPEXpvY34YD44J1W6RDeGfCJb-Tyq0R_YE8dNuVSzBHlP9VhgiwFuVH2zTbTqG4zdKgv1DKlLT-5KzmaMztR1KqNber-MJE-U2WaELTfHOBwpn3-UnZBqG3hi1Yg4EBvhy0K7Bm-Pb9_o9lEpC1ryVa35Xv9nBEgUkQr0BzXwtoy2Ij4-O_P57XSeOb7X-9LyLlZNS0G1Sv_M5hui7mA8lyei5CcuXjQwQ6Jzrf4ME3FZKc5q72-0IYV6uX0hoJVv1n7-S93bI7VVmn3t-cOUutN46JYB9OCm6PqBDFIlYUOG2GoF49kqJiP9SBW8N4SicaoRUJ86QW5ZP70j6bg4_WoNZX90-_8tmFsNkqeD9L8Pu3cWPijX31IajRWJKQEfdaqBaqKtU-S1vBKe04ZMrz9iW8hLM7mFRWPerPgldWAOSBW4EBRL9hzvpwOIQIQzHb42oaocJ56ivZmirUVaagM6BwkQn3zI4m2l3RLVlowZUnd-wvPP5iqgd1iyI-FoqkyNZk2EjjJWcL1pauDWf15glhRjTRC2sj9cQ5TXK-XJqMMlzLCoeY4rgxyoxU-vBZqxzg8XtFrwWm0HbeMgpBiB5VGaL3ZelCxH6vIxxUB-zJGIjeJT_eCVYE6j2sBUoEFJY1n5l5WQKFMuivMhAWYl-MO8y6qisBAdDB9cFHGPl5RGrYlfJzzTZX6JYRcj7E3_GvbuE7zAABzhPIcD954OkhNGiN1DUYkbqrc1O_D7xE2O_yO3rig3cGg0YLTA5rj7cBzExERyLAJNdRx3WqSPqVf_w2PI14Od-5peAw15ENCa4iCpJY47P3QC8LH5rE4VRlw7zHafZtbgvETrrSrXy-J_7gCbGCDRzsjceBRfvroRqba8a1xwupYlcI35ok-wGyfORWiP_MUJclpkLeNuCyNuXDnwEb5-J-BFOLRvUMr4MgzqPQTs1mDBO3AnS2xxI2vk9ugcsRTbwlozxquH6gkI90Me0f9gMk4IFLEAMbJ47RxEPFsmmZf1dkSHjFK2TO_Z6TlTcWkuoZ2MmC3NFL879YLpVY\""
   ]
  },
  {
   "cell_type": "code",
   "execution_count": 6,
   "metadata": {},
   "outputs": [
    {
     "name": "stdout",
     "output_type": "stream",
     "text": [
      "ChatCompletion(id='chatcmpl-9eHWoZpStVh1kvNtTI5gX9okpChra', choices=[Choice(finish_reason='stop', index=0, logprobs=None, message=ChatCompletionMessage(content='As the sun began to set, Sarah sat alone on the beach, the waves gently lapping at her feet. She closed her eyes and breathed in the salty ocean air, feeling a sense of peace wash over her. The sound of seagulls overhead and the distant laughter of children playing in the sand filled her with a sense of contentment. In that moment, she knew that everything would be okay. The simplicity of the moment reminded her to be grateful for the little things in life. With a smile on her face, Sarah stood up and walked along the shoreline, feeling grateful for the beauty all around her.', role='assistant', function_call=None, tool_calls=None))], created=1719387526, model='gpt-3.5-turbo-0125', object='chat.completion', system_fingerprint=None, usage=CompletionUsage(completion_tokens=124, prompt_tokens=17, total_tokens=141))\n"
     ]
    }
   ],
   "source": [
    "response = client.chat.completions.create(model=\"gpt-3.5-turbo\", messages = [\n",
    "    {\n",
    "        \"role\": \"user\",\n",
    "        \"content\": query\n",
    "    },\n",
    "    ],\n",
    "    extra_headers = { \"Cookie\": cookie })\n",
    "\n",
    "print(response)"
   ]
  },
  {
   "cell_type": "code",
   "execution_count": null,
   "metadata": {},
   "outputs": [],
   "source": []
  }
 ],
 "metadata": {
  "kernelspec": {
   "display_name": "Python 3",
   "language": "python",
   "name": "python3"
  },
  "language_info": {
   "codemirror_mode": {
    "name": "ipython",
    "version": 3
   },
   "file_extension": ".py",
   "mimetype": "text/x-python",
   "name": "python",
   "nbconvert_exporter": "python",
   "pygments_lexer": "ipython3",
   "version": "3.10.14"
  }
 },
 "nbformat": 4,
 "nbformat_minor": 2
}
